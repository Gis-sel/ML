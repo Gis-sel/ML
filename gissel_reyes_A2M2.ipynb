{
  "nbformat": 4,
  "nbformat_minor": 0,
  "metadata": {
    "colab": {
      "provenance": []
    },
    "kernelspec": {
      "name": "python3",
      "display_name": "Python 3"
    },
    "language_info": {
      "name": "python"
    }
  },
  "cells": [
    {
      "cell_type": "code",
      "execution_count": null,
      "metadata": {
        "colab": {
          "base_uri": "https://localhost:8080/"
        },
        "id": "scJITmr75nz6",
        "outputId": "550d9ed8-1060-4e6c-de51-7b23bbc3a826"
      },
      "outputs": [
        {
          "output_type": "stream",
          "name": "stdout",
          "text": [
            "El resultado de 330 dividido por 20 es 16.5\n",
            "Error: Valor negativo '-10' no permitido\n",
            "Error: No se puede dividir por cero en la línea '0'\n",
            "Error: No se pudo convertir 'gis_abc' a entero\n",
            "El resultado de 330 dividido por 330 es 1.0\n",
            "El resultado de 330 dividido por 14 es 23.571428571428573\n",
            "Error: No se pudo convertir 'tarea_2' a entero\n",
            "El resultado de 330 dividido por 6 es 55.0\n",
            "Error: No se pudo convertir 'aprendiendo' a entero\n",
            "Archivo procesado correctamente\n",
            "Finalizado el procesamiento del archivo\n"
          ]
        }
      ],
      "source": [
        "class ValorFueraDeRangoError(Exception):\n",
        "    \"\"\"Excepción personalizada para valores fuera de rango.\"\"\"\n",
        "    pass\n",
        "\n",
        "def procesar_archivo(ruta_archivo):\n",
        "#Bloque try-except-else-finally para manejo general de errores\n",
        "    try:\n",
        "        with open(ruta_archivo, \"r\") as archivo:\n",
        "#Bloque with para manejo seguro del archivo\n",
        "#Bucle para procesar cada línea del archivo\n",
        "            for linea in archivo:\n",
        "#Limpiar la línea\n",
        "                linea = linea.strip()\n",
        "                try:\n",
        "                    valor = int(linea)\n",
        "#Intentar convertir a entero\n",
        "                    if valor < 0:\n",
        "                        raise ValorFueraDeRangoError(f\"Valor negativo '{valor}' no permitido\")\n",
        "#Verificar si el valor está fuera de rango\n",
        "                    try:\n",
        "                        resultado = 330 / valor\n",
        "#Verificar si el valor está fuera de rango\n",
        "                        print(f\"El resultado de 330 dividido por {valor} es {resultado}\")\n",
        "#Imprimir resultado si es exitoso\n",
        "                    except ZeroDivisionError:\n",
        "                        print(f\"Error: No se puede dividir por cero en la línea '{linea}'\")\n",
        "#Capturar el error de conversión a entero\n",
        "                except ValueError:\n",
        "                    print(f\"Error: No se pudo convertir '{linea}' a entero\")\n",
        "#Capturar la excepción personalizada\n",
        "                except ValorFueraDeRangoError as e:\n",
        "                    print(f\"Error: {e}\")\n",
        "#Capturar el error de archivo no encontrado\n",
        "    except FileNotFoundError:\n",
        "        print(f\"Error: El archivo '{ruta_archivo}' no existe\")\n",
        "#Capturar cualquier otro error inesperado\n",
        "    except Exception as e:\n",
        "        print(f\"Error inesperado: {e}\")\n",
        "#Bloque que se ejecuta si no hay errores en el bloque try\n",
        "    else:\n",
        "        print(\"Archivo procesado correctamente\")\n",
        "    finally:\n",
        "        print(\"Finalizado el procesamiento del archivo\")\n",
        "# Bloque que se ejecuta siempre\n",
        "\n",
        "procesar_archivo (\"datos.txt\") #(le pedi ayuda a la ia ya que no veia el print y me suguirio agregar este comando al final tambien)\n"
      ]
    },
    {
      "cell_type": "code",
      "source": [
        "##Ejemplo de archivo \"datos.txt\"##\n",
        "#20\n",
        "#-10\n",
        "#0\n",
        "#gis_abc\n",
        "#330\n",
        "#14\n",
        "#tarea_2\n",
        "#6\n",
        "#aprendiendo"
      ],
      "metadata": {
        "id": "HNa_gTSdA5U-"
      },
      "execution_count": null,
      "outputs": []
    },
    {
      "cell_type": "markdown",
      "source": [
        "procesar_archivo(\"datos.txt\")\n",
        "#Explicación\n",
        "- Se define una excepción  \"ValorFueraDeRangoError\" para validar que los valores sean \"no negativos\".\n",
        "- La función \"procesar_archivo\" intenta abrir el archivo especificado en modo lectura utilizando \"with\", lo que garantiza que el archivo se cierre automáticamente al finalizar.\n",
        "- Se utiliza \"try-except\" para manejar la excepción \"FileNotFoundError\" si el archivo no existe.\n",
        "- Dentro del bloque try, se itera sobre cada línea del archivo y \"se intenta convertir el contenido a entero\". Si la conversión falla, se captura la excepción \"ValueError\".\n",
        "- Si la conversión es exitosa, se verifica \"si el valor es negativo\". Si lo es, se lanza la excepción personalizada \"ValorFueraDeRangoError\".\n",
        "- Si el valor es \"no negativo\", se intenta realizar la división. Si el valor es cero, se captura la excepción \"ZeroDivisionError\".\n",
        "- La cláusula else se ejecuta si no se produce ninguna excepción durante el procesamiento del archivo, lo que indica que el archivo se procesó correctamente.\n",
        "- La cláusula \"finally\" se ejecuta siempre, independientemente de si se produjeron excepciones o no.\n"
      ],
      "metadata": {
        "id": "gstDAGXl6lJC"
      }
    }
  ]
}